{
 "cells": [
  {
   "cell_type": "markdown",
   "metadata": {},
   "source": [
    "Descripción\n",
    "\n",
    "Resolverás algunos problemas de la vida cotidiana aplicando las estructuras de datos y control en Python.\n",
    "\n",
    "Un cliente de la empresa en la cual trabajas pide una lista de programas muy sencillos, pero que le facilitarían muchos procesos. Sin embargo, el departamento de IT está muy complicado con el tiempo, por lo cual te piden que hagas la programación."
   ]
  },
  {
   "cell_type": "markdown",
   "metadata": {},
   "source": [
    "# NIVEL 1\n"
   ]
  },
  {
   "cell_type": "markdown",
   "metadata": {},
   "source": [
    "## EJERCICIO 1\n",
    "Escribe una función que calcule el IMC ingresado por el usuario/aria, es decir, quién lo ejecute tendrá que ingresar estos datos. Puedes obtener más información de su cálculo en:\n",
    "\n",
    "-> Índice de masa corporal IMC que se y como se calcula.\n",
    "\n",
    "La función tiene que clasificar el resultado en sus respectivas categorías"
   ]
  },
  {
   "cell_type": "code",
   "execution_count": 7,
   "metadata": {},
   "outputs": [],
   "source": [
    "def IMC(peso, altura): # Funcion para aplicar la formula del indice de masa corporal, el nombre de los atributos\n",
    "    return(peso/(altura**2)) #es simplemente indicativo, puedo cambiarlos despues y no altera el resultado, porque no \n",
    "#son variables declaradas, sino atributos o argumentos, por orden mantengo los mismos nombres pero la maquina\n",
    "#trabaja con la posición que le he dado a cada atributo desde la creación de la función. "
   ]
  },
  {
   "cell_type": "code",
   "execution_count": 8,
   "metadata": {},
   "outputs": [],
   "source": [
    "def get_data (): #Función para obtener los datos del usuario\n",
    "    peso = float(input(\"ingresa tu peso en kg\"))\n",
    "    altura = float(input(\"ingresa tu altura en metros\"))\n",
    "    return peso, altura #Regresa una tupla que puedo utilizar en otras funciones"
   ]
  },
  {
   "cell_type": "code",
   "execution_count": 9,
   "metadata": {},
   "outputs": [],
   "source": [
    "def calculate (): #integro la función de IMC y get_data con el condicional if/elif y finalizo con return por tratarse de una función \n",
    "    peso, altura = get_data() #Llamo a la función que creó un tupla con los valores de entrada\n",
    "    imc = IMC(peso, altura) # Llamo a la función que calcula el indice de masa corporal y la alimento con los valores entregados de la funcion get_data\n",
    "    \n",
    "    if imc < 18.5:\n",
    "        return \"bajo peso\"  #Uso return porque quiero que el valor quede guardado para usarlo porteriomente\n",
    "    elif imc <= 24.9:\n",
    "        return \"peso normal\" #Si usara print tambien seria valido, sin embargo no podría reutilizar este valor porque no queda almacenado\n",
    "    elif imc <= 29.9:\n",
    "        return \"sobre peso\"\n",
    "    return \"obesidad\""
   ]
  },
  {
   "cell_type": "code",
   "execution_count": 10,
   "metadata": {},
   "outputs": [
    {
     "data": {
      "text/plain": [
       "'bajo peso'"
      ]
     },
     "execution_count": 10,
     "metadata": {},
     "output_type": "execute_result"
    }
   ],
   "source": [
    "calculate() #Llamo en una sola linea a la función calculate"
   ]
  },
  {
   "cell_type": "markdown",
   "metadata": {},
   "source": [
    "## EJERCICIO 2\n",
    "\n",
    "Convertidor de temperaturas.\n",
    "\n",
    "Existen varias unidades de temperatura utilizadas en diferentes contextos y regiones. Las más comunes son Celsius (°C), Fahrenheit (°F) y Kelvin (K). También existen otras unidades como Rankine (°Ra) y Réaumur (°Re). Selecciona al menos 2 conversors, de tal manera que al introducir una temperatura devuelva, como mínimo, dos conversiones."
   ]
  },
  {
   "cell_type": "code",
   "execution_count": 11,
   "metadata": {},
   "outputs": [],
   "source": [
    "def get_celsius(): #Creo una función para ingresar los grados celsius por parte de usuario\n",
    "    celsius = float(input(\"ingresa los grados Celsius\")) #debido a que un input me genera un str, lo convierto a float\n",
    "    return(celsius)\n",
    "def fahrenheit(celsius):\n",
    "    return(celsius*(9/5))+32\n",
    "def Kelvin(celsius):\n",
    "    return celsius+273.15\n",
    "def conversor():\n",
    "    celsius = get_celsius()\n",
    "    print(f\"{celsius} grados Celsius son equivalentes a {fahrenheit(celsius)} grados Fahrenheit\")\n",
    "    print(f\"{celsius} grados Celsius son equivalentes a {Kelvin(celsius)} grados Kelvin\")"
   ]
  },
  {
   "cell_type": "code",
   "execution_count": 12,
   "metadata": {},
   "outputs": [
    {
     "name": "stdout",
     "output_type": "stream",
     "text": [
      "24.0 grados Celsius son equivalentes a 75.2 grados Fahrenheit\n",
      "24.0 grados Celsius son equivalentes a 297.15 grados Kelvin\n"
     ]
    }
   ],
   "source": [
    "conversor()"
   ]
  },
  {
   "cell_type": "markdown",
   "metadata": {},
   "source": [
    "## EJERCICIO 3\n",
    "\n",
    "Contador de palabras de un texto.\n",
    "\n",
    "Escribe una función que dado un texto, muestre las veces que aparece cada palabra."
   ]
  },
  {
   "cell_type": "code",
   "execution_count": 13,
   "metadata": {},
   "outputs": [],
   "source": [
    "#Es importante tener en cuenta aunque las funciones se pueden identar una dentro de otra, esto eliminaria la logica de crera una función y es que cuando el codigo se ejecute no realice una y otra vez el mismo proceso, por lo tanto las funciones no se deben indentar. \n",
    "#Texto ejemplo: uno, dos, uno, dos, dos, dos, tres\n",
    "def get_texto(): #Función para ingresar el texto\n",
    "    return input(\"Escribe texto para contar palabras repetidas:\")\n",
    "\n",
    "def limpieza():\n",
    "    texto = get_texto() #creo variable con el texto ingresado\n",
    "    texto = texto.lower() #convierto todo a minusculas para que no discrimine entre mayusculas y minusculas\n",
    "    for caracter in \"-.,\\n\": # creo un bucle for para eliminar los caractes especiales y los saltos de pagina(\\n)\n",
    "        texto = texto.replace(caracter, ' ') #remplazo la variable iterada caracter por espacio en blanco ' '\n",
    "    return texto.split() #creo una lista dividiendo las palabras\n",
    "\n",
    "def contador_palabras (): #definon la función para contar palabras\n",
    "    lista_texto = limpieza()\n",
    "    contador = {} #creo un diccionario para almacenar los datos ya que admite valores que no se pueden repetir, ideal para este ejercicio porque un diccionario almacena tuplas {(clave1:valor),(clave2:valor),(clave3:valor)...} las claves son unicas, como si fueran una foreing key, lo valores corresponden al valor asignado a cada clave, estos no son unicos \"\" necesariamente\n",
    "    for palabra in lista_texto: #bucle for para iterar la lista creada\n",
    "        if palabra in contador: #para poder empezar a almacenar datos en el diccionario contador = {}, itero la lista_texto y en el condiconal if lo genero sobre el diccionario para almacenar los resultados de las tuplas que espero crear en el diccionario.\n",
    "            contador[palabra] += 1 # condicional if para incrementar el contador en 1 si la palabra ya existe\n",
    "        else:\n",
    "            contador[palabra] = 1 # el para crear la palabra e iniciarla con 1 si no existe aun \n",
    "    return contador \n",
    "\n",
    "def imprimir_contador():\n",
    "    contador2 = contador_palabras()\n",
    "    for palabra, frecuencia in contador2.items(): #utilizo el metodo .items para extraer las tuplas del diccionario \n",
    "            print(f'{palabra}: {frecuencia}') #printo un f-string con las tuplas retornadas del bucle \n",
    "\n",
    "\n",
    "\n"
   ]
  },
  {
   "cell_type": "code",
   "execution_count": 14,
   "metadata": {},
   "outputs": [
    {
     "data": {
      "text/plain": [
       "{'uno': 2, 'dos': 4, 'tres': 1}"
      ]
     },
     "execution_count": 14,
     "metadata": {},
     "output_type": "execute_result"
    }
   ],
   "source": [
    "contador_palabras() #ejecuto la función contador palabras y por utilizar return creo un diccionario que me permite utilizarlo para lo que requiera en otro codigo"
   ]
  },
  {
   "cell_type": "code",
   "execution_count": 15,
   "metadata": {},
   "outputs": [
    {
     "name": "stdout",
     "output_type": "stream",
     "text": [
      "uno: 2\n",
      "dos: 4\n",
      "tres: 1\n"
     ]
    }
   ],
   "source": [
    "imprimir_contador() #ejecuto la función pero como no ejecuto return sino print, no puedo utilizar esta impresión en otra parte del codigo, la elección de imprimir o retornar depende de las necesidades que tengo con mi codigo."
   ]
  },
  {
   "cell_type": "markdown",
   "metadata": {},
   "source": [
    "## Ejercicio 4\n",
    "Diccionario inverso.\n",
    "\n",
    "Resulta que el cliente tiene una encuesta muy antigua que se almacena en un diccionario y los resultados los necesita a la inversa, es decir, intercambiados las claves y los valores. Los valores y claves en el diccionario original son únicos; si este no es el caso, la función tendría que imprimir un mensaje de advertencia."
   ]
  },
  {
   "cell_type": "code",
   "execution_count": 16,
   "metadata": {},
   "outputs": [
    {
     "name": "stdout",
     "output_type": "stream",
     "text": [
      "{'a': 1, 'b': 2, 'c': 3}\n",
      "{'apple': 'x', 'banana': 'z'}\n"
     ]
    }
   ],
   "source": [
    "original_dictionary_numbers = {1:'a',2:'b',3:'c'}\n",
    "reverse_dictionary = {value:key for key, value in original_dictionary_numbers.items()}\n",
    "print(reverse_dictionary)\n",
    "\n",
    "\n",
    "original_dictionary_words = {'x':'apple','y':'banana','z':'banana'}\n",
    "reverse_dictionary = {value:key for key, value in original_dictionary_words.items()}\n",
    "print(reverse_dictionary)\n",
    "\n",
    "\n"
   ]
  },
  {
   "cell_type": "code",
   "execution_count": 17,
   "metadata": {},
   "outputs": [],
   "source": [
    "original_dictionary_words = {\n",
    "    'x': 'apple',\n",
    "    'y': 'banana',\n",
    "    'z': 'banana'} #Creo el diccionario ejemplo"
   ]
  },
  {
   "cell_type": "code",
   "execution_count": 18,
   "metadata": {},
   "outputs": [],
   "source": [
    "def invertido(original_dictionary_words): #Defino una función para invertir el diccionario y evaluar si hay valores igual que al ser claves generen un error de advertencia y no borrarlos \n",
    "    inverted_dict = {} #Creo un diccionario para almacenar el nuevo diccionario \n",
    "    for key, value in original_dictionary_words.items(): #Establezco un bucle for para recorrer el diccionario por tuplas de key,value esto con la ayuda del metodo.items para descomponer el diccionarrio en tuplas\n",
    "        if value in inverted_dict.keys(): #Por defecto toma la key, pero si quiero ser mas especifico puedo utilizar.keys, en este caso el if evalua los key \n",
    "             #Lanzo un error personanlizado \n",
    "            return f\"Error: La clave '{value}' ya existe en el diccionario invertido.\"\n",
    "        inverted_dict[value] = key #si la clave no se repite, se almacena \n",
    "    return inverted_dict #retorna el resutlado del diccionario final\n",
    "    "
   ]
  },
  {
   "cell_type": "code",
   "execution_count": 19,
   "metadata": {},
   "outputs": [
    {
     "data": {
      "text/plain": [
       "\"Error: La clave 'banana' ya existe en el diccionario invertido.\""
      ]
     },
     "execution_count": 19,
     "metadata": {},
     "output_type": "execute_result"
    }
   ],
   "source": [
    "invertido(original_dictionary_words)"
   ]
  }
 ],
 "metadata": {
  "kernelspec": {
   "display_name": "Python 3",
   "language": "python",
   "name": "python3"
  },
  "language_info": {
   "codemirror_mode": {
    "name": "ipython",
    "version": 3
   },
   "file_extension": ".py",
   "mimetype": "text/x-python",
   "name": "python",
   "nbconvert_exporter": "python",
   "pygments_lexer": "ipython3",
   "version": "3.12.4"
  }
 },
 "nbformat": 4,
 "nbformat_minor": 2
}
